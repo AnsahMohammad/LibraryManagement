{
 "cells": [
  {
   "cell_type": "code",
   "execution_count": 41,
   "metadata": {},
   "outputs": [],
   "source": [
    "from time import time\n",
    "\n",
    "# To Do :\n",
    "# boook account, the books a person has tracker\n",
    "# fix errors"
   ]
  },
  {
   "cell_type": "code",
   "execution_count": 42,
   "metadata": {},
   "outputs": [],
   "source": [
    "class library:\n",
    "    __books = []\n",
    "    __users = {}\n",
    "    __admin = {\"God\":123}\n",
    "    __login = 0\n",
    "    __adminOnline = 0\n",
    "    __registerLog = {}\n",
    "    present_user = None\n",
    "    __borrowed = {}\n",
    "    __borrowedHistory = {}\n",
    "\n",
    "    def __init__(self, name, books,admin=\"God\",pass_=123):\n",
    "      self.name = name\n",
    "      self.__books = books\n",
    "      self.__admin[admin] = pass_\n",
    "      print(\"Library deployed successfully! \")\n",
    "\n",
    "    def __log(self,user,book,action):\n",
    "        localLog = [book,action,time()]\n",
    "        if user in list(self.__registerLog.keys()):\n",
    "          k = self.__registerLog[user]\n",
    "          k.append(localLog)\n",
    "          self.__registerLog[user] = k\n",
    "        else:\n",
    "          self.__registerLog[user] = [self.present_user]\n",
    "\n",
    "    def signup(self,username,password):\n",
    "      if username in list(self.__users.keys()):\n",
    "        print(\"username already exist\")\n",
    "        return 0\n",
    "      else:\n",
    "        self.__users[username] = password\n",
    "        self.__registerLog[username] = [] \n",
    "        print(\"signup successful \")\n",
    "        return 1\n",
    "\n",
    "    def login(self,name,password):\n",
    "      if self.__users[name] == password:\n",
    "        print(\"Login success\")\n",
    "        self.present_user = name\n",
    "        self.__login = 1\n",
    "        return 1\n",
    "      else:\n",
    "        return 0\n",
    "\n",
    "    def AdminLogin(self,name,password):\n",
    "      if self.__admin[name] == password:\n",
    "        self.__adminOnline = 1\n",
    "        self.__login = 0\n",
    "        self.present_user = name\n",
    "        print(\"Loggined as Admin-{} Successfully \".format(name))\n",
    "      else:\n",
    "        print(\"Authentication Failed\")\n",
    "\n",
    "    def Logout(self):\n",
    "      print(\"{} logged out Successfully\".format(self.present_user))\n",
    "      self.__adminOnline = 0\n",
    "      self.present_user = None\n",
    "      self.__login = 0\n",
    "\n",
    "    def addbook(self,book):\n",
    "      if self.__login == 1:\n",
    "        if book in self.__books:\n",
    "          print(\"sorry, the book is already here! \")\n",
    "          return 0\n",
    "        else:\n",
    "          self.__books.append(book)\n",
    "          print(\"Book '\"+book+\"' has been added successfully\")\n",
    "          self.__log(self.present_user,book,\"added\")\n",
    "          return 1\n",
    "      else:\n",
    "        print(\"you're not Logged-in\")\n",
    "        return 0\n",
    "\n",
    "    def importBooks(self,books):\n",
    "      if self.__adminOnline == 1:\n",
    "        for each in books:\n",
    "          if each not in self.__books and each not in list(self.__borrowed.keys()):\n",
    "            self.__books.append(each)\n",
    "          else:\n",
    "            print(\"{} already exists\".format(each))\n",
    "        \n",
    "        self.__log(self.present_user,books,\"Imported\")\n",
    "        print(\"Books have been successfully imported !\")\n",
    "        return 1\n",
    "      else:\n",
    "        print(\"Sorry Authentication Failed\")\n",
    "\n",
    "    def showBorrowed(self):\n",
    "      if self.__adminOnline == 1:\n",
    "        print(self.__borrowed)\n",
    "      else:\n",
    "        print(\"Authentication Failed\")\n",
    "    \n",
    "    def showBorrowHistory(self,book):\n",
    "      if self.__adminOnline == 1:\n",
    "        if book in list(self.__borrowedHistory.keys()):\n",
    "          print(self.__borrowedHistory[book])\n",
    "        else:\n",
    "          print(\"{} has no borrow history\".format(book))\n",
    "      else:\n",
    "        print(\"Authentication Failed\")\n",
    "\n",
    "    def displayBooks(self):\n",
    "      if(self.__login == 1 or self.__adminOnline == 1):\n",
    "        print(self.__books)\n",
    "        print(\"\\n\")\n",
    "      else:\n",
    "        print(\"not logged in to use this functions\")\n",
    "\n",
    "    def showAdmin(self):\n",
    "      print(list(self.__admin)[0])\n",
    "\n",
    "    def showLog(self,user):\n",
    "      if self.__adminOnline == 1:\n",
    "        print(self.__registerLog[user])\n",
    "      elif user == self.present_user:\n",
    "        print(self.__registerLog[user])\n",
    "      else:\n",
    "        print(\"Sorry Information classified\")\n",
    "\n",
    "    def borrowBook(self,bookName):\n",
    "      if(self.__login == 1 and bookName in self.__books):\n",
    "        self.__log(self.present_user,bookName,\"Borrowed\")\n",
    "        self.__books.remove(bookName)\n",
    "        self.__borrowed[bookName] = self.present_user\n",
    "        if bookName in list(self.__borrowedHistory.keys()):\n",
    "          k = self.__borrowedHistory[bookName]\n",
    "          k.append(self.present_user)\n",
    "          self.__borrowedHistory[bookName] = k\n",
    "        else:\n",
    "          self.__borrowedHistory[bookName] = [self.present_user]\n",
    "          \n",
    "        print(\"Borrow of {} has been Successful\".format(bookName))\n",
    "        return 1\n",
    "      else:\n",
    "        if self.__login != 1:\n",
    "          print(\"Please Login\")\n",
    "        else:\n",
    "          print(\"Book not available\")\n",
    "        return 0\n",
    "\n",
    "    def returnBook(self,bookName):\n",
    "      if self.__login == 1 and self.__borrowed[bookName]==self.present_user :\n",
    "        self.__log(self.present_user,bookName,\"Returned\")\n",
    "        self.__books.append(bookName)\n",
    "        self.__borrowed[bookName] = \"\"\n",
    "        print(\"Return of {} has been Successful\".format(bookName))\n",
    "      else:\n",
    "        print(\"Return Failed\")"
   ]
  },
  {
   "cell_type": "code",
   "execution_count": 43,
   "metadata": {},
   "outputs": [
    {
     "name": "stdout",
     "output_type": "stream",
     "text": [
      "Library deployed successfully! \n",
      "signup successful \n",
      "Login success\n",
      "Book 'kate' has been added successfully\n",
      "['alice', 'bob', 'janice', 'kate']\n",
      "\n",
      "\n"
     ]
    }
   ],
   "source": [
    "books = [\"alice\",\"bob\",\"janice\"]\n",
    "svnit = library(\"svnit\",books)\n",
    "svnit.signup(\"Ansah\",\"123\")\n",
    "svnit.login(\"Ansah\",\"123\")\n",
    "svnit.addbook(\"kate\")\n",
    "svnit.displayBooks()"
   ]
  },
  {
   "cell_type": "code",
   "execution_count": 44,
   "metadata": {},
   "outputs": [
    {
     "name": "stdout",
     "output_type": "stream",
     "text": [
      "Loggined as Admin-God Successfully \n"
     ]
    }
   ],
   "source": [
    "svnit.AdminLogin(\"God\",123)"
   ]
  },
  {
   "cell_type": "code",
   "execution_count": 45,
   "metadata": {},
   "outputs": [
    {
     "name": "stdout",
     "output_type": "stream",
     "text": [
      "Books have been successfully imported !\n",
      "['alice', 'bob', 'janice', 'kate', 'God of war', 'Thunder', 'Lust', 'Grape']\n",
      "\n",
      "\n"
     ]
    }
   ],
   "source": [
    "newBooks = ['God of war','Thunder','Lust','Grape']\n",
    "svnit.importBooks(newBooks)\n",
    "svnit.displayBooks()"
   ]
  },
  {
   "cell_type": "code",
   "execution_count": 46,
   "metadata": {},
   "outputs": [
    {
     "name": "stdout",
     "output_type": "stream",
     "text": [
      "Login success\n",
      "Borrow of Thunder has been Successful\n",
      "Ansah logged out Successfully\n"
     ]
    }
   ],
   "source": [
    "svnit.login(\"Ansah\",\"123\")\n",
    "svnit.borrowBook('Thunder')\n",
    "svnit.Logout()"
   ]
  },
  {
   "cell_type": "code",
   "execution_count": 48,
   "metadata": {},
   "outputs": [
    {
     "name": "stdout",
     "output_type": "stream",
     "text": [
      "signup successful \n",
      "Login success\n",
      "['alice', 'bob', 'janice', 'kate', 'God of war', 'Lust', 'Grape']\n",
      "\n",
      "\n",
      "Borrow of kate has been Successful\n",
      "Raju logged out Successfully\n"
     ]
    }
   ],
   "source": [
    "svnit.signup(\"Raju\",\"123\")\n",
    "svnit.login(\"Raju\",\"123\")\n",
    "svnit.displayBooks()\n",
    "svnit.borrowBook('kate')\n",
    "svnit.Logout()"
   ]
  },
  {
   "cell_type": "code",
   "execution_count": 49,
   "metadata": {},
   "outputs": [
    {
     "name": "stdout",
     "output_type": "stream",
     "text": [
      "Loggined as Admin-God Successfully \n",
      "{'Thunder': 'Ansah', 'kate': 'Raju'}\n",
      "['Ansah']\n"
     ]
    }
   ],
   "source": [
    "svnit.AdminLogin(\"God\",123)\n",
    "svnit.showBorrowed()\n",
    "svnit.showBorrowHistory('Thunder')"
   ]
  },
  {
   "cell_type": "code",
   "execution_count": 50,
   "metadata": {},
   "outputs": [
    {
     "name": "stdout",
     "output_type": "stream",
     "text": [
      "Login success\n"
     ]
    },
    {
     "ename": "KeyError",
     "evalue": "'Alice'",
     "output_type": "error",
     "traceback": [
      "\u001b[1;31m---------------------------------------------------------------------------\u001b[0m",
      "\u001b[1;31mKeyError\u001b[0m                                  Traceback (most recent call last)",
      "\u001b[1;32m<ipython-input-50-5509a0314de4>\u001b[0m in \u001b[0;36m<module>\u001b[1;34m\u001b[0m\n\u001b[0;32m      1\u001b[0m \u001b[0msvnit\u001b[0m\u001b[1;33m.\u001b[0m\u001b[0mlogin\u001b[0m\u001b[1;33m(\u001b[0m\u001b[1;34m\"Ansah\"\u001b[0m\u001b[1;33m,\u001b[0m\u001b[1;34m\"123\"\u001b[0m\u001b[1;33m)\u001b[0m\u001b[1;33m\u001b[0m\u001b[1;33m\u001b[0m\u001b[0m\n\u001b[1;32m----> 2\u001b[1;33m \u001b[0msvnit\u001b[0m\u001b[1;33m.\u001b[0m\u001b[0mreturnBook\u001b[0m\u001b[1;33m(\u001b[0m\u001b[1;34m\"Alice\"\u001b[0m\u001b[1;33m)\u001b[0m\u001b[1;33m\u001b[0m\u001b[1;33m\u001b[0m\u001b[0m\n\u001b[0m\u001b[0;32m      3\u001b[0m \u001b[0msvnit\u001b[0m\u001b[1;33m.\u001b[0m\u001b[0mreturnBook\u001b[0m\u001b[1;33m(\u001b[0m\u001b[1;34m\"Thunder\"\u001b[0m\u001b[1;33m)\u001b[0m\u001b[1;33m\u001b[0m\u001b[1;33m\u001b[0m\u001b[0m\n\u001b[0;32m      4\u001b[0m \u001b[0msvnit\u001b[0m\u001b[1;33m.\u001b[0m\u001b[0mLogout\u001b[0m\u001b[1;33m(\u001b[0m\u001b[1;33m)\u001b[0m\u001b[1;33m\u001b[0m\u001b[1;33m\u001b[0m\u001b[0m\n",
      "\u001b[1;32m<ipython-input-42-bc01a582e26a>\u001b[0m in \u001b[0;36mreturnBook\u001b[1;34m(self, bookName)\u001b[0m\n\u001b[0;32m    142\u001b[0m \u001b[1;33m\u001b[0m\u001b[0m\n\u001b[0;32m    143\u001b[0m     \u001b[1;32mdef\u001b[0m \u001b[0mreturnBook\u001b[0m\u001b[1;33m(\u001b[0m\u001b[0mself\u001b[0m\u001b[1;33m,\u001b[0m\u001b[0mbookName\u001b[0m\u001b[1;33m)\u001b[0m\u001b[1;33m:\u001b[0m\u001b[1;33m\u001b[0m\u001b[1;33m\u001b[0m\u001b[0m\n\u001b[1;32m--> 144\u001b[1;33m       \u001b[1;32mif\u001b[0m \u001b[0mself\u001b[0m\u001b[1;33m.\u001b[0m\u001b[0m__login\u001b[0m \u001b[1;33m==\u001b[0m \u001b[1;36m1\u001b[0m \u001b[1;32mand\u001b[0m \u001b[0mself\u001b[0m\u001b[1;33m.\u001b[0m\u001b[0m__borrowed\u001b[0m\u001b[1;33m[\u001b[0m\u001b[0mbookName\u001b[0m\u001b[1;33m]\u001b[0m\u001b[1;33m==\u001b[0m\u001b[0mself\u001b[0m\u001b[1;33m.\u001b[0m\u001b[0mpresent_user\u001b[0m \u001b[1;33m:\u001b[0m\u001b[1;33m\u001b[0m\u001b[1;33m\u001b[0m\u001b[0m\n\u001b[0m\u001b[0;32m    145\u001b[0m         \u001b[0mself\u001b[0m\u001b[1;33m.\u001b[0m\u001b[0m__log\u001b[0m\u001b[1;33m(\u001b[0m\u001b[0mself\u001b[0m\u001b[1;33m.\u001b[0m\u001b[0mpresent_user\u001b[0m\u001b[1;33m,\u001b[0m\u001b[0mbookName\u001b[0m\u001b[1;33m,\u001b[0m\u001b[1;34m\"Returned\"\u001b[0m\u001b[1;33m)\u001b[0m\u001b[1;33m\u001b[0m\u001b[1;33m\u001b[0m\u001b[0m\n\u001b[0;32m    146\u001b[0m         \u001b[0mself\u001b[0m\u001b[1;33m.\u001b[0m\u001b[0m__books\u001b[0m\u001b[1;33m.\u001b[0m\u001b[0mappend\u001b[0m\u001b[1;33m(\u001b[0m\u001b[0mbookName\u001b[0m\u001b[1;33m)\u001b[0m\u001b[1;33m\u001b[0m\u001b[1;33m\u001b[0m\u001b[0m\n",
      "\u001b[1;31mKeyError\u001b[0m: 'Alice'"
     ]
    }
   ],
   "source": [
    "svnit.login(\"Ansah\",\"123\")\n",
    "svnit.returnBook(\"Alice\")\n",
    "svnit.returnBook(\"Thunder\")\n",
    "svnit.Logout()"
   ]
  },
  {
   "cell_type": "code",
   "execution_count": 51,
   "metadata": {},
   "outputs": [
    {
     "name": "stdout",
     "output_type": "stream",
     "text": [
      "Login success\n",
      "Return of Thunder has been Successful\n",
      "Ansah logged out Successfully\n"
     ]
    }
   ],
   "source": [
    "svnit.login(\"Ansah\",\"123\")\n",
    "# svnit.returnBook(\"Alice\")\n",
    "svnit.returnBook(\"Thunder\")\n",
    "svnit.Logout()"
   ]
  },
  {
   "cell_type": "code",
   "execution_count": 52,
   "metadata": {},
   "outputs": [
    {
     "name": "stdout",
     "output_type": "stream",
     "text": [
      "Login success\n",
      "Return of kate has been Successful\n",
      "Borrow of Thunder has been Successful\n",
      "Raju logged out Successfully\n"
     ]
    }
   ],
   "source": [
    "svnit.login(\"Raju\",\"123\")\n",
    "svnit.returnBook(\"kate\")\n",
    "svnit.borrowBook(\"Thunder\")\n",
    "svnit.Logout()"
   ]
  },
  {
   "cell_type": "code",
   "execution_count": 53,
   "metadata": {},
   "outputs": [
    {
     "name": "stdout",
     "output_type": "stream",
     "text": [
      "Loggined as Admin-God Successfully \n",
      "{'Thunder': 'Raju', 'kate': ''}\n",
      "['Ansah', 'Raju']\n"
     ]
    }
   ],
   "source": [
    "svnit.AdminLogin(\"God\",123)\n",
    "svnit.showBorrowed()\n",
    "svnit.showBorrowHistory('Thunder')"
   ]
  },
  {
   "cell_type": "code",
   "execution_count": 54,
   "metadata": {},
   "outputs": [
    {
     "name": "stdout",
     "output_type": "stream",
     "text": [
      "God logged out Successfully\n"
     ]
    }
   ],
   "source": [
    "svnit.Logout()"
   ]
  }
 ],
 "metadata": {
  "kernelspec": {
   "display_name": "Python 3.9.5 64-bit",
   "language": "python",
   "name": "python3"
  },
  "language_info": {
   "codemirror_mode": {
    "name": "ipython",
    "version": 3
   },
   "file_extension": ".py",
   "mimetype": "text/x-python",
   "name": "python",
   "nbconvert_exporter": "python",
   "pygments_lexer": "ipython3",
   "version": "3.9.5"
  },
  "orig_nbformat": 4,
  "vscode": {
   "interpreter": {
    "hash": "a03c00cd90ff7f386b865d3be61500a338b6b15a4e24e06ba98453dc38e822c0"
   }
  }
 },
 "nbformat": 4,
 "nbformat_minor": 2
}
